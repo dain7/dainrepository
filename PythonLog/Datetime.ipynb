{
  "nbformat": 4,
  "nbformat_minor": 0,
  "metadata": {
    "colab": {
      "name": "Datetime.ipynb",
      "provenance": [],
      "collapsed_sections": [],
      "mount_file_id": "1UxB71fm2nthC3adhgiXc3WfZGMRDzl-S",
      "authorship_tag": "ABX9TyNPLpdBEuQXHb/s6KnlUXNd",
      "include_colab_link": true
    },
    "kernelspec": {
      "name": "python3",
      "display_name": "Python 3"
    }
  },
  "cells": [
    {
      "cell_type": "markdown",
      "metadata": {
        "id": "view-in-github",
        "colab_type": "text"
      },
      "source": [
        "<a href=\"https://colab.research.google.com/github/dain7/dainrepository/blob/master/PythonLog/Datetime.ipynb\" target=\"_parent\"><img src=\"https://colab.research.google.com/assets/colab-badge.svg\" alt=\"Open In Colab\"/></a>"
      ]
    },
    {
      "cell_type": "markdown",
      "metadata": {
        "id": "oKQe2IBbFea0"
      },
      "source": [
        "# Datetime 모듈\n",
        "\n",
        "### 1년부터 9999년까지 제공"
      ]
    },
    {
      "cell_type": "code",
      "metadata": {
        "id": "H0T-bTY-FFRh"
      },
      "source": [
        "import datetime"
      ],
      "execution_count": 1,
      "outputs": []
    },
    {
      "cell_type": "code",
      "metadata": {
        "id": "vij9hC4JFFdQ",
        "outputId": "e1faf73b-f49f-4ac8-df04-779de2b9a140",
        "colab": {
          "base_uri": "https://localhost:8080/",
          "height": 70
        }
      },
      "source": [
        "# 날짜 형식으로 출력\n",
        "print(datetime.date(2020,10,19))\n",
        "# 시간 형식으로 출력 - 시, 분, 초, 밀리초 순서로 입력\n",
        "print(datetime.time(1,35))\n",
        "# 날짜+시간\n",
        "print(datetime.datetime(2020, 10, 19, 13, 22))"
      ],
      "execution_count": 11,
      "outputs": [
        {
          "output_type": "stream",
          "text": [
            "2020-10-19\n",
            "01:35:00\n",
            "2020-10-19 13:22:00\n"
          ],
          "name": "stdout"
        }
      ]
    },
    {
      "cell_type": "markdown",
      "metadata": {
        "id": "uTp1jnuXGMcg"
      },
      "source": [
        "### datetime의 date함수 알아보기"
      ]
    },
    {
      "cell_type": "code",
      "metadata": {
        "id": "NffqAPEsFFmD"
      },
      "source": [
        "from datetime import date"
      ],
      "execution_count": 12,
      "outputs": []
    },
    {
      "cell_type": "code",
      "metadata": {
        "id": "kWHlEl8YGbDn",
        "outputId": "ee55bc23-9268-431f-fc50-c6ebc86e4fbc",
        "colab": {
          "base_uri": "https://localhost:8080/",
          "height": 106
        }
      },
      "source": [
        "# 현재 날짜\n",
        "print(date.today())\n",
        "# 요일 반환\n",
        "print(date.weekday(date.today())) #0부터 월요일, 일요일은 6\n",
        "print(date(2020,12,25).weekday())\n",
        "# 요일 반환2\n",
        "print(date(2020,12,25).isoweekday()) #1부터 월요일, 일요일은 7\n",
        "# 날짜 문자열 반환\n",
        "print(date(2020,12,25).ctime())"
      ],
      "execution_count": 25,
      "outputs": [
        {
          "output_type": "stream",
          "text": [
            "2020-10-19\n",
            "0\n",
            "4\n",
            "5\n",
            "Fri Dec 25 00:00:00 2020\n"
          ],
          "name": "stdout"
        }
      ]
    },
    {
      "cell_type": "markdown",
      "metadata": {
        "id": "KxUn61UEH7mY"
      },
      "source": [
        "### datetime의 datetime"
      ]
    },
    {
      "cell_type": "code",
      "metadata": {
        "id": "H8_krK0NIBbd"
      },
      "source": [
        "from datetime import datetime"
      ],
      "execution_count": 27,
      "outputs": []
    },
    {
      "cell_type": "code",
      "metadata": {
        "id": "eSfofwkEH6be",
        "outputId": "00c2038e-4dfd-4e2c-95ff-8de22ba2d43f",
        "colab": {
          "base_uri": "https://localhost:8080/",
          "height": 70
        }
      },
      "source": [
        "# 현재 날짜 및 시간\n",
        "print(datetime.now())\n",
        "# 날짜\n",
        "print(datetime(2020,12,25).date())\n",
        "# 요일 반환\n",
        "print(datetime(2020,12,25).weekday())"
      ],
      "execution_count": 41,
      "outputs": [
        {
          "output_type": "stream",
          "text": [
            "2020-10-19 04:36:08.624948\n",
            "2020-12-25\n",
            "4\n"
          ],
          "name": "stdout"
        }
      ]
    },
    {
      "cell_type": "code",
      "metadata": {
        "id": "BZHnpcGKGeyJ"
      },
      "source": [
        ""
      ],
      "execution_count": null,
      "outputs": []
    }
  ]
}